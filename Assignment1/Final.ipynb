{
 "cells": [
  {
   "cell_type": "code",
   "id": "initial_id",
   "metadata": {
    "collapsed": true,
    "ExecuteTime": {
     "end_time": "2024-08-29T13:25:13.250653Z",
     "start_time": "2024-08-29T13:25:12.675772Z"
    }
   },
   "source": [
    "import numpy as np\n",
    "import matplotlib.pyplot as plt\n",
    "from itertools import  combinations_with_replacement\n",
    "import math\n",
    "from mpl_toolkits.mplot3d import Axes3D\n",
    "import random\n",
    "import pandas as pd\n",
    "%matplotlib inline"
   ],
   "outputs": [],
   "execution_count": 2
  },
  {
   "cell_type": "code",
   "id": "7895befc025b887",
   "metadata": {
    "ExecuteTime": {
     "end_time": "2024-08-29T13:25:13.258827Z",
     "start_time": "2024-08-29T13:25:13.255080Z"
    }
   },
   "source": [
    "def length_of_design_matrix(m,d):\n",
    "    # print(m,d)\n",
    "    # print((math.factorial(m+d))/(math.factorial(m)*math.factorial(d)))\n",
    "    return (math.factorial(m+d))/(math.factorial(m)*math.factorial(d))"
   ],
   "outputs": [],
   "execution_count": 3
  },
  {
   "cell_type": "code",
   "id": "3081e4e998d9f99",
   "metadata": {
    "ExecuteTime": {
     "end_time": "2024-08-29T13:25:13.262689Z",
     "start_time": "2024-08-29T13:25:13.260627Z"
    }
   },
   "source": [
    "def generate(m,data_point):\n",
    "    lst = []\n",
    "    for i in range(m+1):\n",
    "        combination = combinations_with_replacement(data_point,i)\n",
    "        s = [np.prod(comb) for comb in combination]\n",
    "        lst = lst + s\n",
    "    return lst"
   ],
   "outputs": [],
   "execution_count": 4
  },
  {
   "cell_type": "code",
   "id": "cb9000153c62edb5",
   "metadata": {
    "ExecuteTime": {
     "end_time": "2024-08-29T13:25:13.267891Z",
     "start_time": "2024-08-29T13:25:13.265177Z"
    }
   },
   "source": [
    "generate(3,[2.])"
   ],
   "outputs": [
    {
     "data": {
      "text/plain": [
       "[np.float64(1.0), np.float64(2.0), np.float64(4.0), np.float64(8.0)]"
      ]
     },
     "execution_count": 5,
     "metadata": {},
     "output_type": "execute_result"
    }
   ],
   "execution_count": 5
  },
  {
   "cell_type": "code",
   "id": "699fb0f5bd2def65",
   "metadata": {
    "ExecuteTime": {
     "end_time": "2024-08-29T13:25:13.270727Z",
     "start_time": "2024-08-29T13:25:13.268666Z"
    }
   },
   "source": [
    "def design_matrix(n,m,D,Data_points):\n",
    "    # print(n,D)\n",
    "    basis_func = np.zeros((n,D),dtype=np.float64)\n",
    "    # print(basis_func)\n",
    "    for i in range(n):\n",
    "        # print(generate(m,Data_points[i]))\n",
    "        basis_func[i] = generate(m,Data_points[i])\n",
    "    return basis_func"
   ],
   "outputs": [],
   "execution_count": 6
  },
  {
   "cell_type": "code",
   "id": "75350acf3ce43df6",
   "metadata": {
    "ExecuteTime": {
     "end_time": "2024-08-29T13:25:13.273235Z",
     "start_time": "2024-08-29T13:25:13.271413Z"
    }
   },
   "source": [
    "def predict(weights,x,m):\n",
    "    # print(len(generate(m,x)))\n",
    "    # print(weights.shape)\n",
    "    # print(np.transpose(weights).shape)\n",
    "    z = np.array(generate(m,x))\n",
    "    z = z.reshape(-1,1)\n",
    "    weights = (np.array(weights)).reshape(-1,1)\n",
    "    x = np.transpose(z) @ weights\n",
    "    # print(\"for \",np.transpose(z),\" and \",weights)\n",
    "    \n",
    "    # print(\"x is \",x)\n",
    "    return x[0][0]"
   ],
   "outputs": [],
   "execution_count": 7
  },
  {
   "cell_type": "code",
   "id": "97f2f8b1c0f50888",
   "metadata": {
    "ExecuteTime": {
     "end_time": "2024-08-29T13:25:13.275501Z",
     "start_time": "2024-08-29T13:25:13.273809Z"
    }
   },
   "source": [
    "def model(target,Data,m,D,Data_size,l):\n",
    "    # print(\"D in model is \",D)\n",
    "    basis_func = design_matrix(Data_size,m,D,Data)\n",
    "    # print(l)\n",
    "    x = np.linalg.inv((np.transpose(basis_func)@basis_func) + l*np.identity(D))\n",
    "    # print(x)\n",
    "    weights = x @ np.transpose(basis_func) @ np.transpose(target)\n",
    "    return weights"
   ],
   "outputs": [],
   "execution_count": 8
  },
  {
   "cell_type": "code",
   "id": "f302564f81dbfec",
   "metadata": {
    "ExecuteTime": {
     "end_time": "2024-08-29T13:25:13.279063Z",
     "start_time": "2024-08-29T13:25:13.276233Z"
    }
   },
   "source": [
    "print(4*np.identity(5))"
   ],
   "outputs": [
    {
     "name": "stdout",
     "output_type": "stream",
     "text": [
      "[[4. 0. 0. 0. 0.]\n",
      " [0. 4. 0. 0. 0.]\n",
      " [0. 0. 4. 0. 0.]\n",
      " [0. 0. 0. 4. 0.]\n",
      " [0. 0. 0. 0. 4.]]\n"
     ]
    }
   ],
   "execution_count": 9
  },
  {
   "cell_type": "code",
   "id": "563f4d6a051220ff",
   "metadata": {
    "ExecuteTime": {
     "end_time": "2024-08-29T13:25:13.281328Z",
     "start_time": "2024-08-29T13:25:13.279617Z"
    }
   },
   "source": [
    "def error_rms(predicted, expected):\n",
    "    x = [(predicted[i] - expected[i]) ** 2 for i in range(len(predicted))]\n",
    "    return np.mean(x) ** 0.5"
   ],
   "outputs": [],
   "execution_count": 10
  },
  {
   "cell_type": "code",
   "id": "a34cbbc18b7b81ab",
   "metadata": {
    "ExecuteTime": {
     "end_time": "2024-08-29T13:25:13.402492Z",
     "start_time": "2024-08-29T13:25:13.283220Z"
    }
   },
   "source": [
    "# for m in [2,3,5,6,9]:\n",
    "l= 0\n",
    "df = pd.read_csv('2D_data_10/train50_10.csv')\n",
    "data = []\n",
    "target = []\n",
    "for index, row in df.iterrows():\n",
    "    data.append([row['x1'],row['x2']])\n",
    "    target.append(row['y'])# Convert the Series to a list and append it to 'data'\n",
    "# D=int(length_of_design_matrix(m,len(data[0])))\n",
    "# weights = model(target,data,m,D,len(data),l)\n",
    "    # predicted = [predict(weights,x,m) for x in data]\n",
    "    # x_fit = np.linspace(min(data), max(data), 100)\n",
    "    # y_fit = [predict(weights,[x],m) for x in x_fit]\n",
    "    \n",
    "    # # Plot original data\n",
    "    \n",
    "    # plt.scatter(data, target, color='blue', label='Data')\n",
    "    # plt.plot(x_fit, y_fit, label=f'Fit (m={m})')\n",
    "    # plt.xlabel('Input')\n",
    "    # plt.ylabel('Output')\n",
    "    # plt.legend()\n",
    "    # plt.title('Data Fitting Curves')\n",
    "    # plt.show()\n",
    "\n",
    "    # Plot fitted curve\n",
    "    \n",
    "    \n",
    "df = pd.read_csv('2D_data_10/test_10.csv')\n",
    "data_test = []\n",
    "target_test = []\n",
    "for index, row in df.iterrows():\n",
    "    data_test.append([row['x1'],row['x2']])\n",
    "    target_test.append(row['y'])# Convert the Series to a list and append it to 'data'\n",
    "    # x_fit = np.linspace(min(data_test), max(data_test), 100)\n",
    "    # y_fit = [predict(weights,[x],m) for x in x_fit]\n",
    "    # # print(data)\n",
    "    # # print(target)\n",
    "    # # print(data_test)\n",
    "    # # print(target_test)\n",
    "    # # Plot original data\n",
    "    # plt.scatter(data_test, target_test, color='red', label='Data')\n",
    "    # plt.plot(x_fit, y_fit, label=f'Fit (m={m})')\n",
    "    # plt.xlabel('Input')\n",
    "    # plt.ylabel('Output')\n",
    "    # plt.legend()\n",
    "    # plt.title('Data Fitting Curves')\n",
    "    # plt.show()\n",
    "df = pd.read_csv('2D_data_10/test_10.csv')   \n",
    "data_valid=[]\n",
    "target_valid=[]\n",
    "for index, row in df.iterrows():\n",
    "    data_valid.append([row['x1'],row['x2']])\n",
    "    target_valid.append(row['y'])\n",
    "\n",
    "    \n",
    "Erms_train = []\n",
    "Erms_test = []\n",
    "Erms_valid = []\n",
    "Data_size = len(data)\n",
    "for m in range(1,6):\n",
    "    D=int(length_of_design_matrix(m,len(data[0])))\n",
    "    # print(D)\n",
    "    weightsi = model(target,data,m,D,len(data),l)\n",
    "    act = []\n",
    "    for x in data:\n",
    "        act.append(predict(weightsi,x,m))\n",
    "    act_test =[]\n",
    "    for x in data_test:\n",
    "        act_test.append(predict(weightsi,x,m))\n",
    "    act_valid = []\n",
    "    for x in data_valid:\n",
    "        act_valid.append(predict(weightsi,x,m))\n",
    "    Erms_test.append(error_rms(act_test,target_test))\n",
    "    Erms_train.append(error_rms(act,target))\n",
    "    Erms_valid.append(error_rms(act_valid,target_valid))\n",
    "    # x = [d[0] for d in data]\n",
    "    # y = [d[1] for d in data]\n",
    "    # fig = plt.figure()\n",
    "    # ax = fig.add_subplot(111, projection='3d')\n",
    "    # ax.plot_trisurf(x, y, z, color='blue', edgecolor='none')\n",
    "\n",
    "    # # Add labels\n",
    "    # ax.set_xlabel('X1')\n",
    "    # ax.set_ylabel('X2')\n",
    "    # ax.set_zlabel('Predicted Y')\n",
    "\n",
    "    # # Show the plot\n",
    "    # plt.show()\n",
    "    \n",
    "\n",
    "model_orders = list(range(1,6))\n",
    "nms = len(model_orders)\n",
    "\n",
    "    # Create the plot\n",
    "i=0\n",
    "for j in range(1,nms):\n",
    "    if Erms_valid[j]<Erms_valid[i]:\n",
    "        i=j\n",
    "print(\"m with least Erms for validation data is \",i+1)\n",
    "plt.figure(figsize=(10, 6))\n",
    "plt.plot(model_orders, Erms_train, marker='o', linestyle='-', color='b', label='Erms Train')\n",
    "plt.plot(model_orders, Erms_test, marker='o', linestyle='--', color='r', label='Erms Test')\n",
    "\n",
    "    # Add labels and title\n",
    "plt.xlabel('Model Order M')\n",
    "plt.ylabel('Erms (Root Mean Square Error)')\n",
    "plt.title('Training and Testing Erms vs. Model Order')\n",
    "plt.legend()\n",
    "plt.grid(True)\n",
    "\n",
    "    # Show the plot\n",
    "plt.show()\n",
    "\n",
    "\n"
   ],
   "outputs": [
    {
     "ename": "FileNotFoundError",
     "evalue": "[Errno 2] No such file or directory: '2D_data_10/train50_10.csv'",
     "output_type": "error",
     "traceback": [
      "\u001B[0;31m---------------------------------------------------------------------------\u001B[0m",
      "\u001B[0;31mFileNotFoundError\u001B[0m                         Traceback (most recent call last)",
      "Cell \u001B[0;32mIn[11], line 3\u001B[0m\n\u001B[1;32m      1\u001B[0m \u001B[38;5;66;03m# for m in [2,3,5,6,9]:\u001B[39;00m\n\u001B[1;32m      2\u001B[0m l\u001B[38;5;241m=\u001B[39m \u001B[38;5;241m0\u001B[39m\n\u001B[0;32m----> 3\u001B[0m df \u001B[38;5;241m=\u001B[39m \u001B[43mpd\u001B[49m\u001B[38;5;241;43m.\u001B[39;49m\u001B[43mread_csv\u001B[49m\u001B[43m(\u001B[49m\u001B[38;5;124;43m'\u001B[39;49m\u001B[38;5;124;43m2D_data_10/train50_10.csv\u001B[39;49m\u001B[38;5;124;43m'\u001B[39;49m\u001B[43m)\u001B[49m\n\u001B[1;32m      4\u001B[0m data \u001B[38;5;241m=\u001B[39m []\n\u001B[1;32m      5\u001B[0m target \u001B[38;5;241m=\u001B[39m []\n",
      "File \u001B[0;32m~/Desktop/coding/Computer_vision/project/Curve_fitting/.venv/lib/python3.11/site-packages/pandas/io/parsers/readers.py:1026\u001B[0m, in \u001B[0;36mread_csv\u001B[0;34m(filepath_or_buffer, sep, delimiter, header, names, index_col, usecols, dtype, engine, converters, true_values, false_values, skipinitialspace, skiprows, skipfooter, nrows, na_values, keep_default_na, na_filter, verbose, skip_blank_lines, parse_dates, infer_datetime_format, keep_date_col, date_parser, date_format, dayfirst, cache_dates, iterator, chunksize, compression, thousands, decimal, lineterminator, quotechar, quoting, doublequote, escapechar, comment, encoding, encoding_errors, dialect, on_bad_lines, delim_whitespace, low_memory, memory_map, float_precision, storage_options, dtype_backend)\u001B[0m\n\u001B[1;32m   1013\u001B[0m kwds_defaults \u001B[38;5;241m=\u001B[39m _refine_defaults_read(\n\u001B[1;32m   1014\u001B[0m     dialect,\n\u001B[1;32m   1015\u001B[0m     delimiter,\n\u001B[0;32m   (...)\u001B[0m\n\u001B[1;32m   1022\u001B[0m     dtype_backend\u001B[38;5;241m=\u001B[39mdtype_backend,\n\u001B[1;32m   1023\u001B[0m )\n\u001B[1;32m   1024\u001B[0m kwds\u001B[38;5;241m.\u001B[39mupdate(kwds_defaults)\n\u001B[0;32m-> 1026\u001B[0m \u001B[38;5;28;01mreturn\u001B[39;00m \u001B[43m_read\u001B[49m\u001B[43m(\u001B[49m\u001B[43mfilepath_or_buffer\u001B[49m\u001B[43m,\u001B[49m\u001B[43m \u001B[49m\u001B[43mkwds\u001B[49m\u001B[43m)\u001B[49m\n",
      "File \u001B[0;32m~/Desktop/coding/Computer_vision/project/Curve_fitting/.venv/lib/python3.11/site-packages/pandas/io/parsers/readers.py:620\u001B[0m, in \u001B[0;36m_read\u001B[0;34m(filepath_or_buffer, kwds)\u001B[0m\n\u001B[1;32m    617\u001B[0m _validate_names(kwds\u001B[38;5;241m.\u001B[39mget(\u001B[38;5;124m\"\u001B[39m\u001B[38;5;124mnames\u001B[39m\u001B[38;5;124m\"\u001B[39m, \u001B[38;5;28;01mNone\u001B[39;00m))\n\u001B[1;32m    619\u001B[0m \u001B[38;5;66;03m# Create the parser.\u001B[39;00m\n\u001B[0;32m--> 620\u001B[0m parser \u001B[38;5;241m=\u001B[39m \u001B[43mTextFileReader\u001B[49m\u001B[43m(\u001B[49m\u001B[43mfilepath_or_buffer\u001B[49m\u001B[43m,\u001B[49m\u001B[43m \u001B[49m\u001B[38;5;241;43m*\u001B[39;49m\u001B[38;5;241;43m*\u001B[39;49m\u001B[43mkwds\u001B[49m\u001B[43m)\u001B[49m\n\u001B[1;32m    622\u001B[0m \u001B[38;5;28;01mif\u001B[39;00m chunksize \u001B[38;5;129;01mor\u001B[39;00m iterator:\n\u001B[1;32m    623\u001B[0m     \u001B[38;5;28;01mreturn\u001B[39;00m parser\n",
      "File \u001B[0;32m~/Desktop/coding/Computer_vision/project/Curve_fitting/.venv/lib/python3.11/site-packages/pandas/io/parsers/readers.py:1620\u001B[0m, in \u001B[0;36mTextFileReader.__init__\u001B[0;34m(self, f, engine, **kwds)\u001B[0m\n\u001B[1;32m   1617\u001B[0m     \u001B[38;5;28mself\u001B[39m\u001B[38;5;241m.\u001B[39moptions[\u001B[38;5;124m\"\u001B[39m\u001B[38;5;124mhas_index_names\u001B[39m\u001B[38;5;124m\"\u001B[39m] \u001B[38;5;241m=\u001B[39m kwds[\u001B[38;5;124m\"\u001B[39m\u001B[38;5;124mhas_index_names\u001B[39m\u001B[38;5;124m\"\u001B[39m]\n\u001B[1;32m   1619\u001B[0m \u001B[38;5;28mself\u001B[39m\u001B[38;5;241m.\u001B[39mhandles: IOHandles \u001B[38;5;241m|\u001B[39m \u001B[38;5;28;01mNone\u001B[39;00m \u001B[38;5;241m=\u001B[39m \u001B[38;5;28;01mNone\u001B[39;00m\n\u001B[0;32m-> 1620\u001B[0m \u001B[38;5;28mself\u001B[39m\u001B[38;5;241m.\u001B[39m_engine \u001B[38;5;241m=\u001B[39m \u001B[38;5;28;43mself\u001B[39;49m\u001B[38;5;241;43m.\u001B[39;49m\u001B[43m_make_engine\u001B[49m\u001B[43m(\u001B[49m\u001B[43mf\u001B[49m\u001B[43m,\u001B[49m\u001B[43m \u001B[49m\u001B[38;5;28;43mself\u001B[39;49m\u001B[38;5;241;43m.\u001B[39;49m\u001B[43mengine\u001B[49m\u001B[43m)\u001B[49m\n",
      "File \u001B[0;32m~/Desktop/coding/Computer_vision/project/Curve_fitting/.venv/lib/python3.11/site-packages/pandas/io/parsers/readers.py:1880\u001B[0m, in \u001B[0;36mTextFileReader._make_engine\u001B[0;34m(self, f, engine)\u001B[0m\n\u001B[1;32m   1878\u001B[0m     \u001B[38;5;28;01mif\u001B[39;00m \u001B[38;5;124m\"\u001B[39m\u001B[38;5;124mb\u001B[39m\u001B[38;5;124m\"\u001B[39m \u001B[38;5;129;01mnot\u001B[39;00m \u001B[38;5;129;01min\u001B[39;00m mode:\n\u001B[1;32m   1879\u001B[0m         mode \u001B[38;5;241m+\u001B[39m\u001B[38;5;241m=\u001B[39m \u001B[38;5;124m\"\u001B[39m\u001B[38;5;124mb\u001B[39m\u001B[38;5;124m\"\u001B[39m\n\u001B[0;32m-> 1880\u001B[0m \u001B[38;5;28mself\u001B[39m\u001B[38;5;241m.\u001B[39mhandles \u001B[38;5;241m=\u001B[39m \u001B[43mget_handle\u001B[49m\u001B[43m(\u001B[49m\n\u001B[1;32m   1881\u001B[0m \u001B[43m    \u001B[49m\u001B[43mf\u001B[49m\u001B[43m,\u001B[49m\n\u001B[1;32m   1882\u001B[0m \u001B[43m    \u001B[49m\u001B[43mmode\u001B[49m\u001B[43m,\u001B[49m\n\u001B[1;32m   1883\u001B[0m \u001B[43m    \u001B[49m\u001B[43mencoding\u001B[49m\u001B[38;5;241;43m=\u001B[39;49m\u001B[38;5;28;43mself\u001B[39;49m\u001B[38;5;241;43m.\u001B[39;49m\u001B[43moptions\u001B[49m\u001B[38;5;241;43m.\u001B[39;49m\u001B[43mget\u001B[49m\u001B[43m(\u001B[49m\u001B[38;5;124;43m\"\u001B[39;49m\u001B[38;5;124;43mencoding\u001B[39;49m\u001B[38;5;124;43m\"\u001B[39;49m\u001B[43m,\u001B[49m\u001B[43m \u001B[49m\u001B[38;5;28;43;01mNone\u001B[39;49;00m\u001B[43m)\u001B[49m\u001B[43m,\u001B[49m\n\u001B[1;32m   1884\u001B[0m \u001B[43m    \u001B[49m\u001B[43mcompression\u001B[49m\u001B[38;5;241;43m=\u001B[39;49m\u001B[38;5;28;43mself\u001B[39;49m\u001B[38;5;241;43m.\u001B[39;49m\u001B[43moptions\u001B[49m\u001B[38;5;241;43m.\u001B[39;49m\u001B[43mget\u001B[49m\u001B[43m(\u001B[49m\u001B[38;5;124;43m\"\u001B[39;49m\u001B[38;5;124;43mcompression\u001B[39;49m\u001B[38;5;124;43m\"\u001B[39;49m\u001B[43m,\u001B[49m\u001B[43m \u001B[49m\u001B[38;5;28;43;01mNone\u001B[39;49;00m\u001B[43m)\u001B[49m\u001B[43m,\u001B[49m\n\u001B[1;32m   1885\u001B[0m \u001B[43m    \u001B[49m\u001B[43mmemory_map\u001B[49m\u001B[38;5;241;43m=\u001B[39;49m\u001B[38;5;28;43mself\u001B[39;49m\u001B[38;5;241;43m.\u001B[39;49m\u001B[43moptions\u001B[49m\u001B[38;5;241;43m.\u001B[39;49m\u001B[43mget\u001B[49m\u001B[43m(\u001B[49m\u001B[38;5;124;43m\"\u001B[39;49m\u001B[38;5;124;43mmemory_map\u001B[39;49m\u001B[38;5;124;43m\"\u001B[39;49m\u001B[43m,\u001B[49m\u001B[43m \u001B[49m\u001B[38;5;28;43;01mFalse\u001B[39;49;00m\u001B[43m)\u001B[49m\u001B[43m,\u001B[49m\n\u001B[1;32m   1886\u001B[0m \u001B[43m    \u001B[49m\u001B[43mis_text\u001B[49m\u001B[38;5;241;43m=\u001B[39;49m\u001B[43mis_text\u001B[49m\u001B[43m,\u001B[49m\n\u001B[1;32m   1887\u001B[0m \u001B[43m    \u001B[49m\u001B[43merrors\u001B[49m\u001B[38;5;241;43m=\u001B[39;49m\u001B[38;5;28;43mself\u001B[39;49m\u001B[38;5;241;43m.\u001B[39;49m\u001B[43moptions\u001B[49m\u001B[38;5;241;43m.\u001B[39;49m\u001B[43mget\u001B[49m\u001B[43m(\u001B[49m\u001B[38;5;124;43m\"\u001B[39;49m\u001B[38;5;124;43mencoding_errors\u001B[39;49m\u001B[38;5;124;43m\"\u001B[39;49m\u001B[43m,\u001B[49m\u001B[43m \u001B[49m\u001B[38;5;124;43m\"\u001B[39;49m\u001B[38;5;124;43mstrict\u001B[39;49m\u001B[38;5;124;43m\"\u001B[39;49m\u001B[43m)\u001B[49m\u001B[43m,\u001B[49m\n\u001B[1;32m   1888\u001B[0m \u001B[43m    \u001B[49m\u001B[43mstorage_options\u001B[49m\u001B[38;5;241;43m=\u001B[39;49m\u001B[38;5;28;43mself\u001B[39;49m\u001B[38;5;241;43m.\u001B[39;49m\u001B[43moptions\u001B[49m\u001B[38;5;241;43m.\u001B[39;49m\u001B[43mget\u001B[49m\u001B[43m(\u001B[49m\u001B[38;5;124;43m\"\u001B[39;49m\u001B[38;5;124;43mstorage_options\u001B[39;49m\u001B[38;5;124;43m\"\u001B[39;49m\u001B[43m,\u001B[49m\u001B[43m \u001B[49m\u001B[38;5;28;43;01mNone\u001B[39;49;00m\u001B[43m)\u001B[49m\u001B[43m,\u001B[49m\n\u001B[1;32m   1889\u001B[0m \u001B[43m\u001B[49m\u001B[43m)\u001B[49m\n\u001B[1;32m   1890\u001B[0m \u001B[38;5;28;01massert\u001B[39;00m \u001B[38;5;28mself\u001B[39m\u001B[38;5;241m.\u001B[39mhandles \u001B[38;5;129;01mis\u001B[39;00m \u001B[38;5;129;01mnot\u001B[39;00m \u001B[38;5;28;01mNone\u001B[39;00m\n\u001B[1;32m   1891\u001B[0m f \u001B[38;5;241m=\u001B[39m \u001B[38;5;28mself\u001B[39m\u001B[38;5;241m.\u001B[39mhandles\u001B[38;5;241m.\u001B[39mhandle\n",
      "File \u001B[0;32m~/Desktop/coding/Computer_vision/project/Curve_fitting/.venv/lib/python3.11/site-packages/pandas/io/common.py:873\u001B[0m, in \u001B[0;36mget_handle\u001B[0;34m(path_or_buf, mode, encoding, compression, memory_map, is_text, errors, storage_options)\u001B[0m\n\u001B[1;32m    868\u001B[0m \u001B[38;5;28;01melif\u001B[39;00m \u001B[38;5;28misinstance\u001B[39m(handle, \u001B[38;5;28mstr\u001B[39m):\n\u001B[1;32m    869\u001B[0m     \u001B[38;5;66;03m# Check whether the filename is to be opened in binary mode.\u001B[39;00m\n\u001B[1;32m    870\u001B[0m     \u001B[38;5;66;03m# Binary mode does not support 'encoding' and 'newline'.\u001B[39;00m\n\u001B[1;32m    871\u001B[0m     \u001B[38;5;28;01mif\u001B[39;00m ioargs\u001B[38;5;241m.\u001B[39mencoding \u001B[38;5;129;01mand\u001B[39;00m \u001B[38;5;124m\"\u001B[39m\u001B[38;5;124mb\u001B[39m\u001B[38;5;124m\"\u001B[39m \u001B[38;5;129;01mnot\u001B[39;00m \u001B[38;5;129;01min\u001B[39;00m ioargs\u001B[38;5;241m.\u001B[39mmode:\n\u001B[1;32m    872\u001B[0m         \u001B[38;5;66;03m# Encoding\u001B[39;00m\n\u001B[0;32m--> 873\u001B[0m         handle \u001B[38;5;241m=\u001B[39m \u001B[38;5;28;43mopen\u001B[39;49m\u001B[43m(\u001B[49m\n\u001B[1;32m    874\u001B[0m \u001B[43m            \u001B[49m\u001B[43mhandle\u001B[49m\u001B[43m,\u001B[49m\n\u001B[1;32m    875\u001B[0m \u001B[43m            \u001B[49m\u001B[43mioargs\u001B[49m\u001B[38;5;241;43m.\u001B[39;49m\u001B[43mmode\u001B[49m\u001B[43m,\u001B[49m\n\u001B[1;32m    876\u001B[0m \u001B[43m            \u001B[49m\u001B[43mencoding\u001B[49m\u001B[38;5;241;43m=\u001B[39;49m\u001B[43mioargs\u001B[49m\u001B[38;5;241;43m.\u001B[39;49m\u001B[43mencoding\u001B[49m\u001B[43m,\u001B[49m\n\u001B[1;32m    877\u001B[0m \u001B[43m            \u001B[49m\u001B[43merrors\u001B[49m\u001B[38;5;241;43m=\u001B[39;49m\u001B[43merrors\u001B[49m\u001B[43m,\u001B[49m\n\u001B[1;32m    878\u001B[0m \u001B[43m            \u001B[49m\u001B[43mnewline\u001B[49m\u001B[38;5;241;43m=\u001B[39;49m\u001B[38;5;124;43m\"\u001B[39;49m\u001B[38;5;124;43m\"\u001B[39;49m\u001B[43m,\u001B[49m\n\u001B[1;32m    879\u001B[0m \u001B[43m        \u001B[49m\u001B[43m)\u001B[49m\n\u001B[1;32m    880\u001B[0m     \u001B[38;5;28;01melse\u001B[39;00m:\n\u001B[1;32m    881\u001B[0m         \u001B[38;5;66;03m# Binary mode\u001B[39;00m\n\u001B[1;32m    882\u001B[0m         handle \u001B[38;5;241m=\u001B[39m \u001B[38;5;28mopen\u001B[39m(handle, ioargs\u001B[38;5;241m.\u001B[39mmode)\n",
      "\u001B[0;31mFileNotFoundError\u001B[0m: [Errno 2] No such file or directory: '2D_data_10/train50_10.csv'"
     ]
    }
   ],
   "execution_count": 11
  },
  {
   "cell_type": "code",
   "id": "b09d54bf212fd235",
   "metadata": {
    "ExecuteTime": {
     "end_time": "2024-08-29T13:47:42.936130Z",
     "start_time": "2024-08-29T13:47:33.539571Z"
    }
   },
   "source": [
    "df = pd.read_csv(\"dataset3/train_data.csv\")\n",
    "data = []\n",
    "target = []\n",
    "for index, row in df.iterrows():\n",
    "    lst = []\n",
    "    for col in row:\n",
    "        lst.append(col)\n",
    "    data.append(lst)\n",
    "df = pd.read_csv(\"dataset3/train_label.csv\")\n",
    "for index, row in df.iterrows():\n",
    "    for col in row:\n",
    "        target.append(col)\n",
    "df = pd.read_csv('dataset3/validation_data.csv')   \n",
    "data_valid=[]\n",
    "target_valid=[]\n",
    "for index, row in df.iterrows():\n",
    "    lst = []\n",
    "    for col in row:\n",
    "        lst.append(col)\n",
    "    data_valid.append(lst)\n",
    "df = pd.read_csv('dataset3/validation_label.csv')\n",
    "for index, row in df.iterrows():\n",
    "    for col in row:\n",
    "        target_valid.append(col)\n",
    "\n",
    "df = pd.read_csv('dataset3/test_data.csv')   \n",
    "data_test=[]\n",
    "target_test=[]\n",
    "for index, row in df.iterrows():\n",
    "    lst = []\n",
    "    for col in row:\n",
    "        lst.append(col)\n",
    "    data_test.append(lst)\n",
    "df = pd.read_csv('dataset3/test_label.csv')\n",
    "for index, row in df.iterrows():\n",
    "    for col in row:\n",
    "        target_test.append(col)\n",
    "\n",
    "\n",
    "Erms_train = []\n",
    "Erms_test = []\n",
    "Erms_valid = []\n",
    "Data_size = len(data)\n",
    "for m in range(1,6):\n",
    "    l=0\n",
    "    D=int(length_of_design_matrix(m,len(data[0])))\n",
    "    # print(D)\n",
    "    weightsi = model(target,data,m,D,len(data),l)\n",
    "    act = []\n",
    "    for x in data:\n",
    "        act.append(predict(weightsi,x,m))\n",
    "    act_test =[]\n",
    "    for x in data_test:\n",
    "        act_test.append(predict(weightsi,x,m))\n",
    "    act_valid = []\n",
    "    for x in data_valid:\n",
    "        act_valid.append(predict(weightsi,x,m))\n",
    "    Erms_test.append(error_rms(act_test,target_test))\n",
    "    Erms_train.append(error_rms(act,target))\n",
    "    Erms_valid.append(error_rms(act_valid,target_valid))\n",
    "    # x = [d[0] for d in data]\n",
    "    # y = [d[1] for d in data]\n",
    "    # fig = plt.figure()\n",
    "    # ax = fig.add_subplot(111, projection='3d')\n",
    "    # ax.plot_trisurf(x, y, z, color='blue', edgecolor='none')\n",
    "\n",
    "    # # Add labels\n",
    "    # ax.set_xlabel('X1')\n",
    "    # ax.set_ylabel('X2')\n",
    "    # ax.set_zlabel('Predicted Y')\n",
    "\n",
    "    # # Show the plot\n",
    "    # plt.show()\n",
    "    \n",
    "\n",
    "model_orders = list(range(1,6))\n",
    "nms = len(model_orders)\n",
    "\n",
    "    # Create the plot\n",
    "i=0\n",
    "for j in range(1,nms):\n",
    "    if Erms_valid[j]<Erms_valid[i]:\n",
    "        i=j\n",
    "print(\"m with least Erms for validation data is \",i+1)\n",
    "plt.figure(figsize=(10, 6))\n",
    "plt.plot(model_orders, Erms_train, marker='o', linestyle='-', color='b', label='Erms Train')\n",
    "plt.plot(model_orders, Erms_test, marker='o', linestyle='--', color='r', label='Erms Test')\n",
    "\n",
    "    # Add labels and title\n",
    "plt.xlabel('Model Order M')\n",
    "plt.ylabel('Erms (Root Mean Square Error)')\n",
    "plt.title('Training and Testing Erms vs. Model Order')\n",
    "plt.legend()\n",
    "plt.grid(True)\n",
    "\n",
    "    # Show the plot\n",
    "plt.show()\n",
    "    "
   ],
   "outputs": [
    {
     "name": "stdout",
     "output_type": "stream",
     "text": [
      "m with least Erms for validation data is  3\n"
     ]
    },
    {
     "data": {
      "text/plain": [
       "<Figure size 1000x600 with 1 Axes>"
      ],
      "image/png": "[encoded data removed]"
     },
     "metadata": {},
     "output_type": "display_data"
    }
   ],
   "execution_count": 21
  },
  {
   "cell_type": "code",
   "id": "c77cfa2ed04860a0",
   "metadata": {},
   "source": [],
   "outputs": [],
   "execution_count": null
  },
  {
   "cell_type": "code",
   "id": "9083a34c1926a830",
   "metadata": {},
   "source": [],
   "outputs": [],
   "execution_count": null
  },
  {
   "cell_type": "code",
   "id": "fa632d3adc75a967",
   "metadata": {},
   "source": [],
   "outputs": [],
   "execution_count": null
  },
  {
   "cell_type": "code",
   "id": "d7c423379cecd749",
   "metadata": {},
   "source": [],
   "outputs": [],
   "execution_count": null
  },
  {
   "cell_type": "code",
   "id": "4f35900b2b57888d",
   "metadata": {},
   "source": [],
   "outputs": [],
   "execution_count": null
  }
 ],
 "metadata": {
  "kernelspec": {
   "display_name": "Python 3",
   "language": "python",
   "name": "python3"
  },
  "language_info": {
   "codemirror_mode": {
    "name": "ipython",
    "version": 2
   },
   "file_extension": ".py",
   "mimetype": "text/x-python",
   "name": "python",
   "nbconvert_exporter": "python",
   "pygments_lexer": "ipython2",
   "version": "2.7.6"
  }
 },
 "nbformat": 4,
 "nbformat_minor": 5
}
